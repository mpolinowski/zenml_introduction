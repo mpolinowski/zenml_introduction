{
 "cells": [
  {
   "cell_type": "markdown",
   "id": "f4e64585-e9cf-434e-a27b-e7bc0b930433",
   "metadata": {},
   "source": [
    "# ZenML Pipelines for SKLearn"
   ]
  },
  {
   "cell_type": "code",
   "execution_count": null,
   "id": "9b32e30f-e21e-43d5-99f7-62bd3a665f2e",
   "metadata": {},
   "outputs": [],
   "source": [
    "!pip install zenml\n",
    "!zenml integration install sklearn"
   ]
  },
  {
   "cell_type": "markdown",
   "id": "ece4a7b3-911a-49b9-9c5c-9f3eab14a45b",
   "metadata": {},
   "source": [
    "## Initialize the Project"
   ]
  },
  {
   "cell_type": "code",
   "execution_count": 1,
   "id": "f170809f-2582-4bbc-ac6c-194784a7cd64",
   "metadata": {},
   "outputs": [
    {
     "name": "stdout",
     "output_type": "stream",
     "text": [
      "\u001b[1;35mNumExpr defaulting to 8 threads.\u001b[0m\n",
      "\u001b[2;36mConnecting to: \u001b[0m\u001b[2;32m'http://192.168.2.110:8888'\u001b[0m\u001b[2;33m...\u001b[0m\n",
      "\u001b[1;35mUpdated the global store configuration.\u001b[0m\n"
     ]
    }
   ],
   "source": [
    "!zenml connect --url http://192.168.2.110:8888 --username admin --password zenml"
   ]
  },
  {
   "cell_type": "code",
   "execution_count": null,
   "id": "bdc9a280-dc6e-4cd0-8e85-cf41f176d002",
   "metadata": {
    "scrolled": true
   },
   "outputs": [],
   "source": [
    "!rm -rf .zen\n",
    "!zenml init"
   ]
  },
  {
   "cell_type": "markdown",
   "id": "bc73e931-77ed-4db2-b88c-4b16d00306e0",
   "metadata": {},
   "source": [
    "## Build an SciKit-Learn SVC Image Classifier"
   ]
  },
  {
   "cell_type": "code",
   "execution_count": 3,
   "id": "4b6ec551-68cb-40c9-ab65-73cd51d787a9",
   "metadata": {},
   "outputs": [],
   "source": [
    "import numpy as np\n",
    "from sklearn.base import ClassifierMixin\n",
    "from sklearn.svm import SVC\n",
    "from sklearn.datasets import load_digits\n",
    "from sklearn.model_selection import train_test_split"
   ]
  },
  {
   "cell_type": "code",
   "execution_count": 17,
   "id": "e816b37f-e190-4839-b791-d6c19ec96036",
   "metadata": {},
   "outputs": [],
   "source": [
    "def train_test():\n",
    "    \"\"\"Train and test a SKLearn SVC classifier on digits\"\"\"\n",
    "    digits = load_digits()\n",
    "    data = digits.images.reshape((len(digits.images), -1))\n",
    "    \n",
    "    X_train, X_test, y_train, y_test = train_test_split(\n",
    "        data, digits.target, test_size=0.2, shuffle=False\n",
    "    )\n",
    "\n",
    "    model = SVC(gamma=0.001)\n",
    "    model.fit(X_train, y_train)\n",
    "    score = model.score(X_test, y_test)\n",
    "    print(f\"Test Accuracy: {score}\")"
   ]
  },
  {
   "cell_type": "code",
   "execution_count": 18,
   "id": "ab5e4149-cd2c-4e67-a1e0-268e7b6e5e6a",
   "metadata": {},
   "outputs": [
    {
     "name": "stdout",
     "output_type": "stream",
     "text": [
      "Test Accuracy: 0.9583333333333334\n"
     ]
    }
   ],
   "source": [
    "train_test()"
   ]
  },
  {
   "cell_type": "markdown",
   "id": "5a882d9c-14c4-426e-b799-76404f76fb03",
   "metadata": {},
   "source": [
    "## Run the Classifier using a ZenML Pipeline\n",
    "\n",
    "### Define Steps\n",
    "\n",
    "Define the classifier in 3 ZenML Pipeline steps - __Data Loading__, __Model Training__ and __Model Evaluation__."
   ]
  },
  {
   "cell_type": "code",
   "execution_count": 4,
   "id": "463532f4-9c73-4658-946b-dc1099419521",
   "metadata": {},
   "outputs": [],
   "source": [
    "from zenml import step\n",
    "from typing_extensions import Annotated\n",
    "from typing import Tuple"
   ]
  },
  {
   "cell_type": "code",
   "execution_count": 5,
   "id": "dadce3ed-f8fb-41d1-bad1-a59b1b0d00e0",
   "metadata": {},
   "outputs": [
    {
     "name": "stdout",
     "output_type": "stream",
     "text": [
      "\u001b[1;35mNumExpr defaulting to 8 threads.\u001b[0m\n"
     ]
    }
   ],
   "source": [
    "@step\n",
    "def importer() -> Tuple[\n",
    "    Annotated[np.ndarray, \"X_train\"],\n",
    "    Annotated[np.ndarray, \"X_test\"],\n",
    "    Annotated[np.ndarray, \"y_train\"],\n",
    "    Annotated[np.ndarray, \"y_test\"],\n",
    "]:\n",
    "    \"\"\"Load the digits dataset as numpy arrays.\"\"\"\n",
    "    digits = load_digits()\n",
    "    data = digits.images.reshape((len(digits.images), -1))\n",
    "    X_train, X_test, y_train, y_test = train_test_split(\n",
    "        data, digits.target, test_size=0.2, shuffle=False\n",
    "    )\n",
    "    return X_train, X_test, y_train, y_test"
   ]
  },
  {
   "cell_type": "code",
   "execution_count": 6,
   "id": "563dfc3e-ab02-47ad-bdd3-8906570b8be7",
   "metadata": {},
   "outputs": [],
   "source": [
    "@step\n",
    "def svc_trainer(\n",
    "            X_train: np.ndarray,\n",
    "            y_train: np.ndarray\n",
    "        ) -> ClassifierMixin:\n",
    "    \"\"\"Train the SVC classifier.\"\"\"\n",
    "    model = SVC(gamma=0.001)\n",
    "    model.fit(X_train, y_train)\n",
    "\n",
    "    return model"
   ]
  },
  {
   "cell_type": "code",
   "execution_count": 7,
   "id": "aac6ea53-8272-45a8-b0d1-afc5e6752468",
   "metadata": {},
   "outputs": [],
   "source": [
    "@step\n",
    "def evaluator(\n",
    "    X_test: np.ndarray,\n",
    "    y_test: np.ndarray,\n",
    "    model: ClassifierMixin\n",
    ") -> float:\n",
    "    \"\"\"Calculate the model accuracy using the test set.\"\"\"\n",
    "    score = model.score(X_test, y_test)\n",
    "    print(f\"Test Accuracy: {score}\")\n",
    "\n",
    "    return score"
   ]
  },
  {
   "cell_type": "markdown",
   "id": "64c94f47-f23c-4f9a-b624-4c7fd359d38f",
   "metadata": {},
   "source": [
    "### Define Pipeline of Steps"
   ]
  },
  {
   "cell_type": "code",
   "execution_count": 8,
   "id": "ae9f9c7e-4e3f-4150-89b5-a6ee3160b101",
   "metadata": {},
   "outputs": [],
   "source": [
    "from zenml import pipeline"
   ]
  },
  {
   "cell_type": "code",
   "execution_count": 9,
   "id": "351cb00f-cc13-402b-8d79-2d2f0b92298e",
   "metadata": {},
   "outputs": [],
   "source": [
    "@pipeline\n",
    "def digits_classifier():\n",
    "    \"\"\"SVC digits classifier pipeline\"\"\"\n",
    "    X_train, X_test, y_train, y_test = importer()\n",
    "    model = svc_trainer(X_train, y_train=y_train)\n",
    "    evaluator(X_test=X_test, y_test=y_test, model=model)"
   ]
  },
  {
   "cell_type": "markdown",
   "id": "3c839bc2-4a59-4d12-90ca-e31f87f0bbc1",
   "metadata": {},
   "source": [
    "### Initialize Pipeline"
   ]
  },
  {
   "cell_type": "code",
   "execution_count": 10,
   "id": "46deebb2-6a88-47b8-a11d-764fe6e92627",
   "metadata": {},
   "outputs": [
    {
     "name": "stdout",
     "output_type": "stream",
     "text": [
      "\u001b[1;35mInitiating a new run for the pipeline: \u001b[0m\u001b[1;36mdigits_classifier\u001b[1;35m.\u001b[0m\n",
      "\u001b[1;35mRegistered new version: \u001b[0m\u001b[1;36m(version 1)\u001b[1;35m.\u001b[0m\n",
      "\u001b[1;35mExecuting a new run.\u001b[0m\n",
      "\u001b[1;35mUsing user: \u001b[0m\u001b[1;36madmin\u001b[1;35m\u001b[0m\n",
      "\u001b[1;35mUsing stack: \u001b[0m\u001b[1;36mdefault\u001b[1;35m\u001b[0m\n",
      "\u001b[1;35m  orchestrator: \u001b[0m\u001b[1;36mdefault\u001b[1;35m\u001b[0m\n",
      "\u001b[1;35m  artifact_store: \u001b[0m\u001b[1;36mdefault\u001b[1;35m\u001b[0m\n",
      "\u001b[1;35mStep \u001b[0m\u001b[1;36mimporter\u001b[1;35m has started.\u001b[0m\n",
      "\u001b[1;35mStep \u001b[0m\u001b[1;36mimporter\u001b[1;35m has finished in \u001b[0m\u001b[1;36m3.163s\u001b[1;35m.\u001b[0m\n",
      "\u001b[1;35mStep \u001b[0m\u001b[1;36msvc_trainer\u001b[1;35m has started.\u001b[0m\n",
      "\u001b[1;35mStep \u001b[0m\u001b[1;36msvc_trainer\u001b[1;35m has finished in \u001b[0m\u001b[1;36m0.644s\u001b[1;35m.\u001b[0m\n",
      "\u001b[1;35mStep \u001b[0m\u001b[1;36mevaluator\u001b[1;35m has started.\u001b[0m\n",
      "Test Accuracy: 0.9583333333333334\n",
      "\u001b[1;35mStep \u001b[0m\u001b[1;36mevaluator\u001b[1;35m has finished in \u001b[0m\u001b[1;36m0.582s\u001b[1;35m.\u001b[0m\n",
      "\u001b[1;35mRun \u001b[0m\u001b[1;36mdigits_classifier-2023_09_27-08_22_04_011726\u001b[1;35m has finished in \u001b[0m\u001b[1;36m6.684s\u001b[1;35m.\u001b[0m\n",
      "\u001b[1;35mDashboard URL: http://192.168.2.110:8888/workspaces/default/pipelines/32b2fbc0-765b-48d9-badd-75d60e1f46fa/runs/a9ffc4c6-5a2b-4560-bb8b-beab259b4bf1/dag\u001b[0m\n"
     ]
    }
   ],
   "source": [
    "classifier = digits_classifier()"
   ]
  },
  {
   "cell_type": "markdown",
   "id": "0752c617-9d16-412c-9c21-aa4db548554c",
   "metadata": {},
   "source": [
    "## Visualize the Results"
   ]
  },
  {
   "cell_type": "markdown",
   "id": "b07c3a60-8d20-4ac7-8a55-ec1a4b8c5aa1",
   "metadata": {},
   "source": [
    "Head over to the dashboard URL given above to see the visualization of the pipeline run:\n",
    "\n",
    "![ZenML Pipelines for SKLearn](../assets/ZenML_MLFlow_01.webp)"
   ]
  },
  {
   "cell_type": "code",
   "execution_count": null,
   "id": "354e8e59-6a67-4954-b584-e8f64fe8833d",
   "metadata": {},
   "outputs": [],
   "source": []
  }
 ],
 "metadata": {
  "kernelspec": {
   "display_name": "Python 3 (ipykernel)",
   "language": "python",
   "name": "python3"
  },
  "language_info": {
   "codemirror_mode": {
    "name": "ipython",
    "version": 3
   },
   "file_extension": ".py",
   "mimetype": "text/x-python",
   "name": "python",
   "nbconvert_exporter": "python",
   "pygments_lexer": "ipython3",
   "version": "3.11.5"
  }
 },
 "nbformat": 4,
 "nbformat_minor": 5
}
