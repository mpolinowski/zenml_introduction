{
 "cells": [
  {
   "cell_type": "markdown",
   "id": "b2f1e372-7240-40f6-bf66-cf01f25f93d1",
   "metadata": {},
   "source": [
    "# ZenML MLFlow Pipeline"
   ]
  },
  {
   "cell_type": "code",
   "execution_count": null,
   "id": "09741c33-b4e7-4c19-a748-e7a9611bbe0c",
   "metadata": {},
   "outputs": [],
   "source": [
    "!zenml integration install mlflow"
   ]
  },
  {
   "cell_type": "code",
   "execution_count": 12,
   "id": "5cc52b01-895a-4efe-ad33-0cbb6f46de99",
   "metadata": {},
   "outputs": [],
   "source": [
    "import pandas as pd"
   ]
  },
  {
   "cell_type": "markdown",
   "id": "566f33b6-2e07-4cce-a0eb-344a078c7554",
   "metadata": {},
   "source": [
    "## Initialize the Project"
   ]
  },
  {
   "cell_type": "code",
   "execution_count": 1,
   "id": "b3709428-1989-43ee-9fa2-03e10369fac4",
   "metadata": {},
   "outputs": [
    {
     "name": "stdout",
     "output_type": "stream",
     "text": [
      "\u001b[1;35mNumExpr defaulting to 8 threads.\u001b[0m\n",
      "\u001b[2;36mConnecting to: \u001b[0m\u001b[2;32m'http://192.168.2.110:8888'\u001b[0m\u001b[2;33m...\u001b[0m\n",
      "\u001b[1;35mUpdated the global store configuration.\u001b[0m\n"
     ]
    }
   ],
   "source": [
    "!zenml connect --url http://192.168.2.110:8888 --username admin --password zenml"
   ]
  },
  {
   "cell_type": "code",
   "execution_count": 3,
   "id": "6fd13723-4de0-45f6-9ded-d1f4b832028a",
   "metadata": {},
   "outputs": [
    {
     "name": "stdout",
     "output_type": "stream",
     "text": [
      "\u001b[1;35mNumExpr defaulting to 8 threads.\u001b[0m\n",
      "\u001b[?25l\u001b[1;35mSetting the repo active workspace to 'default'.\u001b[0m\n",
      "\u001b[33mSetting the repo active stack to default.\u001b[0m\n",
      "\u001b[32m⠋\u001b[0m Initializing ZenML repository at \n",
      "/run/media/xiaodie/dev/zenml_introduction/02_ZenML_MLFlow_Pipeline.\n",
      "\u001b[2K\u001b[1A\u001b[2K\u001b[1A\u001b[2K\u001b[2;36mZenML repository initialized at \u001b[0m\n",
      "\u001b[2;35m/run/media/xiaodie/dev/zenml_introduction/\u001b[0m\u001b[2;95m02_ZenML_MLFlow_Pipeline.\u001b[0m\n",
      "\u001b[2;32m⠋\u001b[0m\u001b[2;36m \u001b[0m\u001b[2;36mInitializing ZenML repository at \u001b[0m\n",
      "\u001b[2;36m/run/media/xiaodie/dev/zenml_introduction/02_ZenML_MLFlow_Pipeline.\u001b[0m\n",
      "\u001b[2K\u001b[1A\u001b[2K\u001b[1A\u001b[2K\u001b[32m⠋\u001b[0m Initializing ZenML repository at \n",
      "/run/media/xiaodie/dev/zenml_introduction/02_ZenML_MLFlow_Pipeline.\n",
      "\n",
      "\u001b[1A\u001b[2K\u001b[1A\u001b[2K\u001b[1A\u001b[2K\u001b[2;36mThe local active stack was initialized to \u001b[0m\u001b[2;32m'default'\u001b[0m\u001b[2;36m. This local configuration \u001b[0m\n",
      "\u001b[2;36mwill only take effect when you're running ZenML from the initialized repository \u001b[0m\n",
      "\u001b[2;36mroot, or from a subdirectory. For more information on repositories and \u001b[0m\n",
      "\u001b[2;36mconfigurations, please visit \u001b[0m\n",
      "\u001b[2;4;94mhttps://docs.zenml.io/user-guide/starter-guide/understand-stacks.\u001b[0m\n"
     ]
    }
   ],
   "source": [
    "!rm -rf .zen\n",
    "!zenml init"
   ]
  },
  {
   "cell_type": "markdown",
   "id": "aed38c08-0232-4c15-a60a-8ad30810f895",
   "metadata": {},
   "source": [
    "## Dataset\n",
    "\n",
    "* [Olist Customer Datasets](https://github.com/Leprofesseur18/Olist-Customer-Datasets)"
   ]
  },
  {
   "cell_type": "code",
   "execution_count": 20,
   "id": "96f501a9-f324-4105-a0bf-d7384cfa0018",
   "metadata": {},
   "outputs": [],
   "source": [
    "df1=pd.read_csv('./datasets/olist_order_payments_dataset.csv',index_col= False)\n",
    "df2=pd.read_csv('./datasets/olist_products_dataset.csv',index_col= False)\n",
    "df3=pd.read_csv('./datasets/olist_order_reviews_dataset.csv',index_col= False)\n",
    "df4=pd.read_csv('./datasets/olist_orders_dataset.csv',index_col= False)\n",
    "df5=pd.read_csv('./datasets/olist_order_items_dataset.csv',index_col= False)          \n",
    "df6=pd.read_csv('./datasets/olist_sellers_dataset.csv',index_col= False)         \n",
    "df7=pd.read_csv('./datasets/olist_geolocation_dataset.csv',index_col=False)       \n",
    "df8=pd.read_csv('./datasets/olist_customers_dataset.csv',index_col= False)"
   ]
  },
  {
   "cell_type": "code",
   "execution_count": 21,
   "id": "e68bc510-ca9a-4d04-a586-ad621bb1ead9",
   "metadata": {},
   "outputs": [],
   "source": [
    "df_merge=df2.merge(df5,on='product_id')\n",
    "df_merge=df_merge.merge(df6,on='seller_id')\n",
    "df_merge=df_merge.merge(df1,on='order_id')\n",
    "df_merge=df_merge.merge(df3,on='order_id')\n",
    "df_merge=df_merge.merge(df4,on='order_id')\n",
    "df_merge=df_merge.merge(df8,on='customer_id')"
   ]
  },
  {
   "cell_type": "code",
   "execution_count": 22,
   "id": "54a91f91-7b12-4bb6-a7cf-f6b8ddbf96d8",
   "metadata": {},
   "outputs": [],
   "source": [
    "df_merge=df_merge.drop(['review_comment_message', 'review_comment_title'], axis=1)"
   ]
  },
  {
   "cell_type": "code",
   "execution_count": 23,
   "id": "2e6f8665-c36a-4326-b5da-8f55926b9989",
   "metadata": {},
   "outputs": [
    {
     "name": "stdout",
     "output_type": "stream",
     "text": [
      "<class 'pandas.core.frame.DataFrame'>\n",
      "Int64Index: 117329 entries, 0 to 117328\n",
      "Data columns (total 37 columns):\n",
      " #   Column                         Non-Null Count   Dtype  \n",
      "---  ------                         --------------   -----  \n",
      " 0   product_id                     117329 non-null  object \n",
      " 1   product_category_name          115634 non-null  object \n",
      " 2   product_name_lenght            115634 non-null  float64\n",
      " 3   product_description_lenght     115634 non-null  float64\n",
      " 4   product_photos_qty             115634 non-null  float64\n",
      " 5   product_weight_g               117309 non-null  float64\n",
      " 6   product_length_cm              117309 non-null  float64\n",
      " 7   product_height_cm              117309 non-null  float64\n",
      " 8   product_width_cm               117309 non-null  float64\n",
      " 9   order_id                       117329 non-null  object \n",
      " 10  order_item_id                  117329 non-null  int64  \n",
      " 11  seller_id                      117329 non-null  object \n",
      " 12  shipping_limit_date            117329 non-null  object \n",
      " 13  price                          117329 non-null  float64\n",
      " 14  freight_value                  117329 non-null  float64\n",
      " 15  seller_zip_code_prefix         117329 non-null  int64  \n",
      " 16  seller_city                    117329 non-null  object \n",
      " 17  seller_state                   117329 non-null  object \n",
      " 18  payment_sequential             117329 non-null  int64  \n",
      " 19  payment_type                   117329 non-null  object \n",
      " 20  payment_installments           117329 non-null  int64  \n",
      " 21  payment_value                  117329 non-null  float64\n",
      " 22  review_id                      117329 non-null  object \n",
      " 23  review_score                   117329 non-null  int64  \n",
      " 24  review_creation_date           117329 non-null  object \n",
      " 25  review_answer_timestamp        117329 non-null  object \n",
      " 26  customer_id                    117329 non-null  object \n",
      " 27  order_status                   117329 non-null  object \n",
      " 28  order_purchase_timestamp       117329 non-null  object \n",
      " 29  order_approved_at              117314 non-null  object \n",
      " 30  order_delivered_carrier_date   116094 non-null  object \n",
      " 31  order_delivered_customer_date  114858 non-null  object \n",
      " 32  order_estimated_delivery_date  117329 non-null  object \n",
      " 33  customer_unique_id             117329 non-null  object \n",
      " 34  customer_zip_code_prefix       117329 non-null  int64  \n",
      " 35  customer_city                  117329 non-null  object \n",
      " 36  customer_state                 117329 non-null  object \n",
      "dtypes: float64(10), int64(6), object(21)\n",
      "memory usage: 34.0+ MB\n"
     ]
    }
   ],
   "source": [
    "df_merge.info()"
   ]
  },
  {
   "cell_type": "code",
   "execution_count": 24,
   "id": "4494f20e-3115-42c4-9cdf-97f4bbe3a80b",
   "metadata": {},
   "outputs": [],
   "source": [
    "df_merge.to_csv('./datasets/olist_complete_dataset.csv')"
   ]
  },
  {
   "cell_type": "code",
   "execution_count": null,
   "id": "d38b5355-2a11-4705-8fa4-e50bbbc1ca87",
   "metadata": {},
   "outputs": [],
   "source": []
  }
 ],
 "metadata": {
  "kernelspec": {
   "display_name": "Python 3 (ipykernel)",
   "language": "python",
   "name": "python3"
  },
  "language_info": {
   "codemirror_mode": {
    "name": "ipython",
    "version": 3
   },
   "file_extension": ".py",
   "mimetype": "text/x-python",
   "name": "python",
   "nbconvert_exporter": "python",
   "pygments_lexer": "ipython3",
   "version": "3.11.5"
  }
 },
 "nbformat": 4,
 "nbformat_minor": 5
}
